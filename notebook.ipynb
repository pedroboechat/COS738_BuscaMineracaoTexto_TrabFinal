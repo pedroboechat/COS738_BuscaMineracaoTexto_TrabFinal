{
 "cells": [
  {
   "cell_type": "markdown",
   "metadata": {},
   "source": [
    "## COS748 - Busca e Mineração de Texto (Trabalho Final)\n",
    "**Alunos:**\n",
    "- Pedro Boechat\n",
    "- Pedro Kuchpil\n",
    "\n",
    "<hr>"
   ]
  },
  {
   "cell_type": "markdown",
   "metadata": {},
   "source": [
    "### Imports"
   ]
  },
  {
   "cell_type": "code",
   "execution_count": 2,
   "metadata": {},
   "outputs": [],
   "source": [
    "from IPython.display import display\n",
    "import matplotlib.pyplot as plt\n",
    "import pandas as pd"
   ]
  },
  {
   "cell_type": "markdown",
   "metadata": {},
   "source": [
    "### Load dataset"
   ]
  },
  {
   "cell_type": "code",
   "execution_count": 3,
   "metadata": {},
   "outputs": [],
   "source": [
    "df = pd.read_json(\n",
    "    \"./data/data.zip\",\n",
    "    orient=\"records\"\n",
    ")"
   ]
  },
  {
   "cell_type": "markdown",
   "metadata": {},
   "source": [
    "### Extract column data"
   ]
  },
  {
   "cell_type": "code",
   "execution_count": 4,
   "metadata": {},
   "outputs": [],
   "source": [
    "df[\"year\"] = df[\"created.date-parts\"].apply(lambda x: x[0][0] if isinstance(x, list) else None)"
   ]
  },
  {
   "cell_type": "markdown",
   "metadata": {},
   "source": [
    "### Exploratory Data Analysis"
   ]
  },
  {
   "cell_type": "markdown",
   "metadata": {},
   "source": [
    "#### 1) Titles"
   ]
  },
  {
   "cell_type": "code",
   "execution_count": 5,
   "metadata": {},
   "outputs": [
    {
     "name": "stdout",
     "output_type": "stream",
     "text": [
      "There are 68211 (96.42%) non-null titles.\n"
     ]
    }
   ],
   "source": [
    "print(f\"There are {df['title'].dropna().shape[0]} ({df['title'].dropna().shape[0]*100/df.shape[0]:.2f}%) non-null titles.\")"
   ]
  },
  {
   "cell_type": "code",
   "execution_count": 6,
   "metadata": {},
   "outputs": [
    {
     "name": "stdout",
     "output_type": "stream",
     "text": [
      "Titles that appear more than twice:\n"
     ]
    },
    {
     "data": {
      "text/plain": [
       "{'None': 2529,\n",
       " '[]': 177,\n",
       " 'Editorial': 30,\n",
       " 'Apresentação': 19,\n",
       " '[NO TITLE AVAILABLE]': 14,\n",
       " 'TheHerschelVirgo Cluster Survey': 14,\n",
       " 'Some Items of Interest to Process R&D Chemists and Engineers': 12,\n",
       " '': 7,\n",
       " 'Abstracts': 7,\n",
       " 'Preface': 5,\n",
       " 'Groupware: Design, Implementation, and Use': 5,\n",
       " 'The authors reply': 4,\n",
       " 'EDITORIAL': 4,\n",
       " 'Inductive Logic Programming': 3,\n",
       " 'In Reply': 3,\n",
       " 'Reply': 3,\n",
       " \"Authors' response\": 3,\n",
       " 'Palavras dos Editores': 3,\n",
       " 'APRESENTAÇÃO': 3}"
      ]
     },
     "metadata": {},
     "output_type": "display_data"
    }
   ],
   "source": [
    "print(\"Titles that appear more than twice:\")\n",
    "display({\n",
    "    key: value\n",
    "    for key, value in df[\"title\"].astype(str).value_counts(dropna=False).items()\n",
    "    if value > 2\n",
    "})"
   ]
  },
  {
   "cell_type": "markdown",
   "metadata": {},
   "source": [
    "#### 2) Abstract"
   ]
  },
  {
   "cell_type": "code",
   "execution_count": 7,
   "metadata": {},
   "outputs": [
    {
     "name": "stdout",
     "output_type": "stream",
     "text": [
      "There are 17290 (24.44%) non-null abstracts.\n"
     ]
    }
   ],
   "source": [
    "print(f\"There are {df['abstract'].dropna().shape[0]} ({df['abstract'].dropna().shape[0]*100/df.shape[0]:.2f}%) non-null abstracts.\")"
   ]
  },
  {
   "cell_type": "markdown",
   "metadata": {},
   "source": [
    "#### 3) Subject"
   ]
  },
  {
   "cell_type": "code",
   "execution_count": 8,
   "metadata": {},
   "outputs": [
    {
     "name": "stdout",
     "output_type": "stream",
     "text": [
      "There are 57948 (81.92%) non-null subjects.\n"
     ]
    }
   ],
   "source": [
    "print(f\"There are {df['subject'].dropna().shape[0]} ({df['subject'].dropna().shape[0]*100/df.shape[0]:.2f}%) non-null subjects.\")"
   ]
  },
  {
   "cell_type": "markdown",
   "metadata": {},
   "source": [
    "#### 4) Year"
   ]
  },
  {
   "cell_type": "code",
   "execution_count": 9,
   "metadata": {},
   "outputs": [
    {
     "name": "stdout",
     "output_type": "stream",
     "text": [
      "There are 68207 (96.42%) non-null years.\n"
     ]
    }
   ],
   "source": [
    "print(f\"There are {df['year'].dropna().shape[0]} ({df['year'].dropna().shape[0]*100/df.shape[0]:.2f}%) non-null years.\")"
   ]
  },
  {
   "cell_type": "code",
   "execution_count": 10,
   "metadata": {},
   "outputs": [
    {
     "data": {
      "image/png": "[encoded data removed]",
      "text/plain": [
       "<Figure size 864x432 with 1 Axes>"
      ]
     },
     "metadata": {
      "needs_background": "light"
     },
     "output_type": "display_data"
    }
   ],
   "source": [
    "_ = df['year'].value_counts().to_dict()\n",
    "fig, ax = plt.subplots(figsize=(12,6))\n",
    "ax.bar(_.keys(), _.values())\n",
    "ax.set_xticks(list(_.keys()))\n",
    "ax.set_title(\"UFRJ publications per year\")\n",
    "ax.set_xlabel(\"Year\")\n",
    "ax.set_ylabel(\"Count\");"
   ]
  },
  {
   "cell_type": "markdown",
   "metadata": {},
   "source": [
    "#### 5) Language"
   ]
  },
  {
   "cell_type": "code",
   "execution_count": 12,
   "metadata": {},
   "outputs": [
    {
     "data": {
      "text/plain": [
       "en     44193\n",
       "NaN    26226\n",
       "pt       205\n",
       "fr        57\n",
       "es        37\n",
       "de        21\n",
       "ja         1\n",
       "Name: language, dtype: int64"
      ]
     },
     "execution_count": 12,
     "metadata": {},
     "output_type": "execute_result"
    }
   ],
   "source": [
    "df[\"language\"].value_counts(dropna=False)"
   ]
  },
  {
   "cell_type": "code",
   "execution_count": 13,
   "metadata": {},
   "outputs": [
    {
     "data": {
      "text/plain": [
       "20552    Plataformas online de participação cidadã: met...\n",
       "68107    Punidos por baixo desempenho: impactos da gove...\n",
       "55615    President Bolsonaro’s Promises and Actions on ...\n",
       "48178    The new Meghalayan Age: What does it Imply for...\n",
       "48947    O trabalho de parto do obstetra: estilo de pen...\n",
       "64794    Atributos raciais no funcionamento do Sistema ...\n",
       "26864               A memória nos textos iniciais de Freud\n",
       "67426    THE IMPORTANCE OF CULTURE FOR THE DEVELOPMENT ...\n",
       "30337    Cutting-edge application of ultrasound elastog...\n",
       "13669    Loss minimisation strategy for DFIG in wind tu...\n",
       "Name: title, dtype: object"
      ]
     },
     "execution_count": 13,
     "metadata": {},
     "output_type": "execute_result"
    }
   ],
   "source": [
    "df.loc[pd.isna(df[\"language\"])][\"title\"].dropna().sample(10)"
   ]
  },
  {
   "cell_type": "markdown",
   "metadata": {},
   "source": [
    "**To-Do**\n",
    "- LangDetect: https://www.geeksforgeeks.org/detect-an-unknown-language-using-python/\n",
    "- Text fields HTML sanitizing\n",
    "- Remove NaN (using 'title' column)\n",
    "- Create conda env"
   ]
  }
 ],
 "metadata": {
  "kernelspec": {
   "display_name": "Python 3.9.7 64-bit",
   "language": "python",
   "name": "python3"
  },
  "language_info": {
   "codemirror_mode": {
    "name": "ipython",
    "version": 3
   },
   "file_extension": ".py",
   "mimetype": "text/x-python",
   "name": "python",
   "nbconvert_exporter": "python",
   "pygments_lexer": "ipython3",
   "version": "3.9.7"
  },
  "orig_nbformat": 4,
  "vscode": {
   "interpreter": {
    "hash": "11938c6bc6919ae2720b4d5011047913343b08a43b18698fd82dedb0d4417594"
   }
  }
 },
 "nbformat": 4,
 "nbformat_minor": 2
}
